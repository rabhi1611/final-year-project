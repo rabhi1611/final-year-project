{
 "cells": [
  {
   "cell_type": "code",
   "execution_count": 67,
   "metadata": {},
   "outputs": [
    {
     "name": "stdout",
     "output_type": "stream",
     "text": [
      "   acousticness                                   artists  danceability  \\\n",
      "0         0.995                       ['Carl Woitschach']         0.708   \n",
      "1         0.994  ['Robert Schumann', 'Vladimir Horowitz']         0.379   \n",
      "2         0.604                   ['Seweryn Goszczyński']         0.749   \n",
      "3         0.995                      ['Francisco Canaro']         0.781   \n",
      "4         0.990  ['Frédéric Chopin', 'Vladimir Horowitz']         0.210   \n",
      "\n",
      "   duration_ms  energy  explicit                      id  instrumentalness  \\\n",
      "0       158648  0.1950         0  6KbQ3uYMLKb5jDxLF7wYDD             0.563   \n",
      "1       282133  0.0135         0  6KuQTIu1KoTTkLXKrwlLPV             0.901   \n",
      "2       104300  0.2200         0  6L63VW0PibdM1HDSBoqnoM             0.000   \n",
      "3       180760  0.1300         0  6M94FkXd15sOAOQYRnWPN8             0.887   \n",
      "4       687733  0.2040         0  6N6tiFZ9vLTSOIxkj8qKrd             0.908   \n",
      "\n",
      "   key  liveness  loudness  mode  \\\n",
      "0   10    0.1510   -12.428     1   \n",
      "1    8    0.0763   -28.454     1   \n",
      "2    5    0.1190   -19.924     0   \n",
      "3    1    0.1110   -14.734     0   \n",
      "4   11    0.0980   -16.829     1   \n",
      "\n",
      "                                            name  popularity release_date  \\\n",
      "0                    Singende Bataillone 1. Teil           0         1928   \n",
      "1       Fantasiestücke, Op. 111: Più tosto lento           0         1928   \n",
      "2                 Chapter 1.18 - Zamek kaniowski           0         1928   \n",
      "3  Bebamos Juntos - Instrumental (Remasterizado)           0   1928-09-25   \n",
      "4    Polonaise-Fantaisie in A-Flat Major, Op. 61           1         1928   \n",
      "\n",
      "   speechiness    tempo  valence  \n",
      "0       0.0506  118.469   0.7790  \n",
      "1       0.0462   83.972   0.0767  \n",
      "2       0.9290  107.177   0.8800  \n",
      "3       0.0926  108.003   0.7200  \n",
      "4       0.0424   62.149   0.0693  \n"
     ]
    }
   ],
   "source": [
    "import pandas as pd\n",
    "\n",
    "df = pd.read_csv (r'C:\\Users\\syash\\Downloads\\data.csv')\n",
    "#df = pd.DataFrame(data,)\n",
    "df.drop('year',inplace=True, axis=1)\n",
    "print (df.head())"
   ]
  },
  {
   "cell_type": "code",
   "execution_count": 68,
   "metadata": {},
   "outputs": [
    {
     "name": "stdout",
     "output_type": "stream",
     "text": [
      "   acousticness                                     artists  danceability  \\\n",
      "0         0.995                         ['Carl Woitschach']         0.708   \n",
      "1         0.994    ['Robert Schumann', 'Vladimir Horowitz']         0.379   \n",
      "2         0.604                     ['Seweryn Goszczyński']         0.749   \n",
      "3         0.995                        ['Francisco Canaro']         0.781   \n",
      "4         0.990    ['Frédéric Chopin', 'Vladimir Horowitz']         0.210   \n",
      "5         0.995  ['Felix Mendelssohn', 'Vladimir Horowitz']         0.424   \n",
      "6         0.956        ['Franz Liszt', 'Vladimir Horowitz']         0.444   \n",
      "7         0.988                         ['Carl Woitschach']         0.555   \n",
      "8         0.995              ['Francisco Canaro', 'Charlo']         0.683   \n",
      "9         0.846                     ['Seweryn Goszczyński']         0.674   \n",
      "\n",
      "   duration_ms  energy  explicit                      id  instrumentalness  \\\n",
      "0       158648  0.1950         0  6KbQ3uYMLKb5jDxLF7wYDD             0.563   \n",
      "1       282133  0.0135         0  6KuQTIu1KoTTkLXKrwlLPV             0.901   \n",
      "2       104300  0.2200         0  6L63VW0PibdM1HDSBoqnoM             0.000   \n",
      "3       180760  0.1300         0  6M94FkXd15sOAOQYRnWPN8             0.887   \n",
      "4       687733  0.2040         0  6N6tiFZ9vLTSOIxkj8qKrd             0.908   \n",
      "5       352600  0.1200         0  6NxAf7M8DNHOBTmEd3JSO5             0.911   \n",
      "6       136627  0.1970         0  6O0puPuyrxPjDTHDUgsWI7             0.435   \n",
      "7       153967  0.4210         0  6OJjveoYwJdIt76y0Pxpxw             0.836   \n",
      "8       162493  0.2070         0  6OaJ8Bh7lsBeYoBmwmo2nh             0.206   \n",
      "9       111600  0.2050         0  6PrZexNb16cabXR8Q418Xc             0.000   \n",
      "\n",
      "   key  liveness  loudness  mode  \\\n",
      "0   10    0.1510   -12.428     1   \n",
      "1    8    0.0763   -28.454     1   \n",
      "2    5    0.1190   -19.924     0   \n",
      "3    1    0.1110   -14.734     0   \n",
      "4   11    0.0980   -16.829     1   \n",
      "5    6    0.0915   -19.242     0   \n",
      "6   11    0.0744   -17.226     1   \n",
      "7    1    0.1050    -9.878     1   \n",
      "8    9    0.3370    -9.801     0   \n",
      "9    9    0.1700   -20.119     1   \n",
      "\n",
      "                                             name  popularity  speechiness  \\\n",
      "0                     Singende Bataillone 1. Teil           0       0.0506   \n",
      "1        Fantasiestücke, Op. 111: Più tosto lento           0       0.0462   \n",
      "2                  Chapter 1.18 - Zamek kaniowski           0       0.9290   \n",
      "3   Bebamos Juntos - Instrumental (Remasterizado)           0       0.0926   \n",
      "4     Polonaise-Fantaisie in A-Flat Major, Op. 61           1       0.0424   \n",
      "5                     Scherzo a capriccio: Presto           0       0.0593   \n",
      "6  Valse oubliée No. 1 in F-Sharp Major, S. 215/1           0       0.0400   \n",
      "7                             Per aspera ad astra           0       0.0474   \n",
      "8                Moneda Corriente - Remasterizado           0       0.1270   \n",
      "9                   Chapter 1.3 - Zamek kaniowski           0       0.9540   \n",
      "\n",
      "     tempo  valence  \n",
      "0  118.469   0.7790  \n",
      "1   83.972   0.0767  \n",
      "2  107.177   0.8800  \n",
      "3  108.003   0.7200  \n",
      "4   62.149   0.0693  \n",
      "5   63.521   0.2660  \n",
      "6   80.495   0.3050  \n",
      "7  123.310   0.8570  \n",
      "8  119.833   0.4930  \n",
      "9   81.249   0.7590  \n"
     ]
    }
   ],
   "source": [
    "df.drop('release_date',inplace=True, axis=1)\n",
    "print (df.head(10))"
   ]
  },
  {
   "cell_type": "code",
   "execution_count": 55,
   "metadata": {},
   "outputs": [],
   "source": [
    "x=df['key'].tolist()\n",
    "y=df['tempo'].tolist()"
   ]
  },
  {
   "cell_type": "code",
   "execution_count": 65,
   "metadata": {},
   "outputs": [
    {
     "data": {
      "image/png": "[encoded data removed]",
      "text/plain": [
       "<Figure size 432x288 with 1 Axes>"
      ]
     },
     "metadata": {
      "needs_background": "light"
     },
     "output_type": "display_data"
    }
   ],
   "source": [
    "import matplotlib.pyplot as plt\n",
    "import numpy\n",
    "plt.hist(x, 10)\n",
    "plt.show()"
   ]
  },
  {
   "cell_type": "code",
   "execution_count": 57,
   "metadata": {},
   "outputs": [
    {
     "data": {
      "text/plain": [
       "<matplotlib.collections.PathCollection at 0x25a5d848148>"
      ]
     },
     "execution_count": 57,
     "metadata": {},
     "output_type": "execute_result"
    },
    {
     "data": {
      "image/png": "[encoded data removed]",
      "text/plain": [
       "<Figure size 432x288 with 1 Axes>"
      ]
     },
     "metadata": {
      "needs_background": "light"
     },
     "output_type": "display_data"
    }
   ],
   "source": [
    "plt.scatter(x,y)"
   ]
  },
  {
   "cell_type": "code",
   "execution_count": 59,
   "metadata": {},
   "outputs": [
    {
     "data": {
      "text/plain": [
       "array([2, 0, 2, ..., 2, 2, 0])"
      ]
     },
     "execution_count": 59,
     "metadata": {},
     "output_type": "execute_result"
    }
   ],
   "source": [
    "from sklearn.cluster import KMeans\n",
    "\n",
    "km=KMeans(n_clusters=3)\n",
    "a=km.fit_predict(df[['key','tempo']])\n",
    "a"
   ]
  },
  {
   "cell_type": "code",
   "execution_count": 61,
   "metadata": {},
   "outputs": [
    {
     "data": {
      "text/plain": [
       "<matplotlib.collections.PathCollection at 0x25a5eece7c8>"
      ]
     },
     "execution_count": 61,
     "metadata": {},
     "output_type": "execute_result"
    },
    {
     "data": {
      "image/png": "[encoded data removed]",
      "text/plain": [
       "<Figure size 432x288 with 1 Axes>"
      ]
     },
     "metadata": {
      "needs_background": "light"
     },
     "output_type": "display_data"
    }
   ],
   "source": [
    "plt.scatter(y,a)"
   ]
  },
  {
   "cell_type": "code",
   "execution_count": 62,
   "metadata": {},
   "outputs": [],
   "source": [
    "df['cluster']=a"
   ]
  },
  {
   "cell_type": "code",
   "execution_count": 63,
   "metadata": {},
   "outputs": [
    {
     "data": {
      "text/html": [
       "<div>\n",
       "<style scoped>\n",
       "    .dataframe tbody tr th:only-of-type {\n",
       "        vertical-align: middle;\n",
       "    }\n",
       "\n",
       "    .dataframe tbody tr th {\n",
       "        vertical-align: top;\n",
       "    }\n",
       "\n",
       "    .dataframe thead th {\n",
       "        text-align: right;\n",
       "    }\n",
       "</style>\n",
       "<table border=\"1\" class=\"dataframe\">\n",
       "  <thead>\n",
       "    <tr style=\"text-align: right;\">\n",
       "      <th></th>\n",
       "      <th>acousticness</th>\n",
       "      <th>artists</th>\n",
       "      <th>danceability</th>\n",
       "      <th>duration_ms</th>\n",
       "      <th>energy</th>\n",
       "      <th>explicit</th>\n",
       "      <th>id</th>\n",
       "      <th>instrumentalness</th>\n",
       "      <th>key</th>\n",
       "      <th>liveness</th>\n",
       "      <th>loudness</th>\n",
       "      <th>mode</th>\n",
       "      <th>name</th>\n",
       "      <th>popularity</th>\n",
       "      <th>speechiness</th>\n",
       "      <th>tempo</th>\n",
       "      <th>valence</th>\n",
       "      <th>cluster</th>\n",
       "    </tr>\n",
       "  </thead>\n",
       "  <tbody>\n",
       "    <tr>\n",
       "      <th>0</th>\n",
       "      <td>0.995</td>\n",
       "      <td>['Carl Woitschach']</td>\n",
       "      <td>0.708</td>\n",
       "      <td>158648</td>\n",
       "      <td>0.1950</td>\n",
       "      <td>0</td>\n",
       "      <td>6KbQ3uYMLKb5jDxLF7wYDD</td>\n",
       "      <td>0.563</td>\n",
       "      <td>10</td>\n",
       "      <td>0.1510</td>\n",
       "      <td>-12.428</td>\n",
       "      <td>1</td>\n",
       "      <td>Singende Bataillone 1. Teil</td>\n",
       "      <td>0</td>\n",
       "      <td>0.0506</td>\n",
       "      <td>118.469</td>\n",
       "      <td>0.7790</td>\n",
       "      <td>2</td>\n",
       "    </tr>\n",
       "    <tr>\n",
       "      <th>1</th>\n",
       "      <td>0.994</td>\n",
       "      <td>['Robert Schumann', 'Vladimir Horowitz']</td>\n",
       "      <td>0.379</td>\n",
       "      <td>282133</td>\n",
       "      <td>0.0135</td>\n",
       "      <td>0</td>\n",
       "      <td>6KuQTIu1KoTTkLXKrwlLPV</td>\n",
       "      <td>0.901</td>\n",
       "      <td>8</td>\n",
       "      <td>0.0763</td>\n",
       "      <td>-28.454</td>\n",
       "      <td>1</td>\n",
       "      <td>Fantasiestücke, Op. 111: Più tosto lento</td>\n",
       "      <td>0</td>\n",
       "      <td>0.0462</td>\n",
       "      <td>83.972</td>\n",
       "      <td>0.0767</td>\n",
       "      <td>0</td>\n",
       "    </tr>\n",
       "    <tr>\n",
       "      <th>2</th>\n",
       "      <td>0.604</td>\n",
       "      <td>['Seweryn Goszczyński']</td>\n",
       "      <td>0.749</td>\n",
       "      <td>104300</td>\n",
       "      <td>0.2200</td>\n",
       "      <td>0</td>\n",
       "      <td>6L63VW0PibdM1HDSBoqnoM</td>\n",
       "      <td>0.000</td>\n",
       "      <td>5</td>\n",
       "      <td>0.1190</td>\n",
       "      <td>-19.924</td>\n",
       "      <td>0</td>\n",
       "      <td>Chapter 1.18 - Zamek kaniowski</td>\n",
       "      <td>0</td>\n",
       "      <td>0.9290</td>\n",
       "      <td>107.177</td>\n",
       "      <td>0.8800</td>\n",
       "      <td>2</td>\n",
       "    </tr>\n",
       "    <tr>\n",
       "      <th>3</th>\n",
       "      <td>0.995</td>\n",
       "      <td>['Francisco Canaro']</td>\n",
       "      <td>0.781</td>\n",
       "      <td>180760</td>\n",
       "      <td>0.1300</td>\n",
       "      <td>0</td>\n",
       "      <td>6M94FkXd15sOAOQYRnWPN8</td>\n",
       "      <td>0.887</td>\n",
       "      <td>1</td>\n",
       "      <td>0.1110</td>\n",
       "      <td>-14.734</td>\n",
       "      <td>0</td>\n",
       "      <td>Bebamos Juntos - Instrumental (Remasterizado)</td>\n",
       "      <td>0</td>\n",
       "      <td>0.0926</td>\n",
       "      <td>108.003</td>\n",
       "      <td>0.7200</td>\n",
       "      <td>2</td>\n",
       "    </tr>\n",
       "    <tr>\n",
       "      <th>4</th>\n",
       "      <td>0.990</td>\n",
       "      <td>['Frédéric Chopin', 'Vladimir Horowitz']</td>\n",
       "      <td>0.210</td>\n",
       "      <td>687733</td>\n",
       "      <td>0.2040</td>\n",
       "      <td>0</td>\n",
       "      <td>6N6tiFZ9vLTSOIxkj8qKrd</td>\n",
       "      <td>0.908</td>\n",
       "      <td>11</td>\n",
       "      <td>0.0980</td>\n",
       "      <td>-16.829</td>\n",
       "      <td>1</td>\n",
       "      <td>Polonaise-Fantaisie in A-Flat Major, Op. 61</td>\n",
       "      <td>1</td>\n",
       "      <td>0.0424</td>\n",
       "      <td>62.149</td>\n",
       "      <td>0.0693</td>\n",
       "      <td>0</td>\n",
       "    </tr>\n",
       "  </tbody>\n",
       "</table>\n",
       "</div>"
      ],
      "text/plain": [
       "   acousticness                                   artists  danceability  \\\n",
       "0         0.995                       ['Carl Woitschach']         0.708   \n",
       "1         0.994  ['Robert Schumann', 'Vladimir Horowitz']         0.379   \n",
       "2         0.604                   ['Seweryn Goszczyński']         0.749   \n",
       "3         0.995                      ['Francisco Canaro']         0.781   \n",
       "4         0.990  ['Frédéric Chopin', 'Vladimir Horowitz']         0.210   \n",
       "\n",
       "   duration_ms  energy  explicit                      id  instrumentalness  \\\n",
       "0       158648  0.1950         0  6KbQ3uYMLKb5jDxLF7wYDD             0.563   \n",
       "1       282133  0.0135         0  6KuQTIu1KoTTkLXKrwlLPV             0.901   \n",
       "2       104300  0.2200         0  6L63VW0PibdM1HDSBoqnoM             0.000   \n",
       "3       180760  0.1300         0  6M94FkXd15sOAOQYRnWPN8             0.887   \n",
       "4       687733  0.2040         0  6N6tiFZ9vLTSOIxkj8qKrd             0.908   \n",
       "\n",
       "   key  liveness  loudness  mode  \\\n",
       "0   10    0.1510   -12.428     1   \n",
       "1    8    0.0763   -28.454     1   \n",
       "2    5    0.1190   -19.924     0   \n",
       "3    1    0.1110   -14.734     0   \n",
       "4   11    0.0980   -16.829     1   \n",
       "\n",
       "                                            name  popularity  speechiness  \\\n",
       "0                    Singende Bataillone 1. Teil           0       0.0506   \n",
       "1       Fantasiestücke, Op. 111: Più tosto lento           0       0.0462   \n",
       "2                 Chapter 1.18 - Zamek kaniowski           0       0.9290   \n",
       "3  Bebamos Juntos - Instrumental (Remasterizado)           0       0.0926   \n",
       "4    Polonaise-Fantaisie in A-Flat Major, Op. 61           1       0.0424   \n",
       "\n",
       "     tempo  valence  cluster  \n",
       "0  118.469   0.7790        2  \n",
       "1   83.972   0.0767        0  \n",
       "2  107.177   0.8800        2  \n",
       "3  108.003   0.7200        2  \n",
       "4   62.149   0.0693        0  "
      ]
     },
     "execution_count": 63,
     "metadata": {},
     "output_type": "execute_result"
    }
   ],
   "source": [
    "df.head()"
   ]
  },
  {
   "cell_type": "code",
   "execution_count": 64,
   "metadata": {},
   "outputs": [
    {
     "data": {
      "text/plain": [
       "<matplotlib.legend.Legend at 0x25a64b59e88>"
      ]
     },
     "execution_count": 64,
     "metadata": {},
     "output_type": "execute_result"
    },
    {
     "data": {
      "image/png": "[encoded data removed]",
      "text/plain": [
       "<Figure size 432x288 with 1 Axes>"
      ]
     },
     "metadata": {
      "needs_background": "light"
     },
     "output_type": "display_data"
    }
   ],
   "source": [
    "df1 = df[df.cluster==0]\n",
    "df2 = df[df.cluster==1]\n",
    "df3 = df[df.cluster==2]\n",
    "plt.scatter(df1.key,df1.tempo,color='green')\n",
    "plt.scatter(df2.key,df2.tempo,color='red')\n",
    "plt.scatter(df3.key,df3.tempo,color='black')\n",
    "plt.scatter(km.cluster_centers_[:,0],km.cluster_centers_[:,1],color='purple',marker='*',label='centroid')\n",
    "plt.legend()"
   ]
  },
  {
   "cell_type": "code",
   "execution_count": 43,
   "metadata": {},
   "outputs": [],
   "source": [
    "from sklearn.cluster import KMeans\n",
    "import pandas as pd\n",
    "from sklearn.preprocessing import MinMaxScaler\n",
    "from matplotlib import pyplot as plt\n",
    "%matplotlib inline"
   ]
  },
  {
   "cell_type": "code",
   "execution_count": 76,
   "metadata": {},
   "outputs": [],
   "source": [
    "af=df.iloc[:100]"
   ]
  },
  {
   "cell_type": "code",
   "execution_count": 77,
   "metadata": {},
   "outputs": [],
   "source": [
    "a=af['danceability'].tolist()\n",
    "b=af['liveness'].tolist()"
   ]
  },
  {
   "cell_type": "code",
   "execution_count": 78,
   "metadata": {},
   "outputs": [
    {
     "data": {
      "image/png": "[encoded data removed]",
      "text/plain": [
       "<Figure size 432x288 with 1 Axes>"
      ]
     },
     "metadata": {
      "needs_background": "light"
     },
     "output_type": "display_data"
    }
   ],
   "source": [
    "import matplotlib.pyplot as plt\n",
    "import numpy\n",
    "plt.hist(a, 10)\n",
    "plt.show()"
   ]
  },
  {
   "cell_type": "code",
   "execution_count": 79,
   "metadata": {},
   "outputs": [
    {
     "data": {
      "text/plain": [
       "<matplotlib.collections.PathCollection at 0x25a6209ca88>"
      ]
     },
     "execution_count": 79,
     "metadata": {},
     "output_type": "execute_result"
    },
    {
     "data": {
      "image/png": "[encoded data removed]",
      "text/plain": [
       "<Figure size 432x288 with 1 Axes>"
      ]
     },
     "metadata": {
      "needs_background": "light"
     },
     "output_type": "display_data"
    }
   ],
   "source": [
    "plt.scatter(a,b)"
   ]
  },
  {
   "cell_type": "code",
   "execution_count": 96,
   "metadata": {},
   "outputs": [
    {
     "data": {
      "text/plain": [
       "array([1, 0, 1, ..., 1, 1, 1])"
      ]
     },
     "execution_count": 96,
     "metadata": {},
     "output_type": "execute_result"
    }
   ],
   "source": [
    "from sklearn.cluster import KMeans\n",
    "\n",
    "km=KMeans(n_clusters=2)\n",
    "m=km.fit_predict(df[['danceability','liveness']])\n",
    "m"
   ]
  },
  {
   "cell_type": "code",
   "execution_count": 97,
   "metadata": {},
   "outputs": [],
   "source": [
    "df['cluster']=m\n",
    "af=df.iloc[:100]\n"
   ]
  },
  {
   "cell_type": "code",
   "execution_count": 98,
   "metadata": {},
   "outputs": [
    {
     "data": {
      "text/plain": [
       "<matplotlib.collections.PathCollection at 0x25a784cd988>"
      ]
     },
     "execution_count": 98,
     "metadata": {},
     "output_type": "execute_result"
    },
    {
     "data": {
      "image/png": "[encoded data removed]",
      "text/plain": [
       "<Figure size 432x288 with 1 Axes>"
      ]
     },
     "metadata": {
      "needs_background": "light"
     },
     "output_type": "display_data"
    }
   ],
   "source": [
    "af1 = af[af.cluster==0]\n",
    "af2 = af[af.cluster==1]\n",
    "plt.scatter(af1.danceability,af1.liveness,color='green')\n",
    "plt.scatter(af2.danceability,af2.liveness,color='red')"
   ]
  },
  {
   "cell_type": "code",
   "execution_count": 95,
   "metadata": {},
   "outputs": [
    {
     "data": {
      "text/plain": [
       "[<matplotlib.lines.Line2D at 0x25a7975ddc8>]"
      ]
     },
     "execution_count": 95,
     "metadata": {},
     "output_type": "execute_result"
    },
    {
     "data": {
      "image/png": "[encoded data removed]",
      "text/plain": [
       "<Figure size 432x288 with 1 Axes>"
      ]
     },
     "metadata": {
      "needs_background": "light"
     },
     "output_type": "display_data"
    }
   ],
   "source": [
    "sse = []\n",
    "k_rng = range(1,11)\n",
    "for k in k_rng:\n",
    "    km = KMeans(n_clusters=k)\n",
    "    km.fit(af[['danceability','liveness']])\n",
    "    sse.append(km.inertia_)\n",
    "plt.xlabel('K')\n",
    "plt.ylabel('Sum of squared error')\n",
    "plt.plot(k_rng,sse)"
   ]
  },
  {
   "cell_type": "code",
   "execution_count": 106,
   "metadata": {},
   "outputs": [
    {
     "data": {
      "text/plain": [
       "<matplotlib.collections.PathCollection at 0x25a7841c408>"
      ]
     },
     "execution_count": 106,
     "metadata": {},
     "output_type": "execute_result"
    },
    {
     "data": {
      "image/png": "[encoded data removed]",
      "text/plain": [
       "<Figure size 720x432 with 1 Axes>"
      ]
     },
     "metadata": {
      "needs_background": "light"
     },
     "output_type": "display_data"
    }
   ],
   "source": [
    "f, (ax1) = plt.subplots(1, sharey=True,figsize=(10,6))\n",
    "\n",
    "ax1.set_title('Our Model')\n",
    "ax1.scatter(af1.danceability,af1.liveness,color='green')\n",
    "ax1.scatter(af2.danceability,af2.liveness,color='red')"
   ]
  },
  {
   "cell_type": "code",
   "execution_count": 109,
   "metadata": {},
   "outputs": [],
   "source": [
    "kmeans = KMeans(n_clusters=2, init='k-means++', random_state= 42)  \n",
    "y_predict=km.fit_predict(df[['key','tempo']])  "
   ]
  },
  {
   "cell_type": "code",
   "execution_count": null,
   "metadata": {},
   "outputs": [],
   "source": []
  }
 ],
 "metadata": {
  "kernelspec": {
   "display_name": "Python 3",
   "language": "python",
   "name": "python3"
  },
  "language_info": {
   "codemirror_mode": {
    "name": "ipython",
    "version": 3
   },
   "file_extension": ".py",
   "mimetype": "text/x-python",
   "name": "python",
   "nbconvert_exporter": "python",
   "pygments_lexer": "ipython3",
   "version": "3.7.6"
  }
 },
 "nbformat": 4,
 "nbformat_minor": 4
}
